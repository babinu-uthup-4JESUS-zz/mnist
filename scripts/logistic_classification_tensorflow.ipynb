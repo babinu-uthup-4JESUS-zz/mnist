{
 "cells": [
  {
   "cell_type": "markdown",
   "metadata": {
    "_uuid": "0f5f8d81cfc53bbb2327190627986bd886183508",
    "scrolled": true
   },
   "source": [
    "### Importing necessary stuff !"
   ]
  },
  {
   "cell_type": "code",
   "execution_count": null,
   "metadata": {
    "_uuid": "5035175e3d3a38eeb25bd588ea53fedcf1a69c29"
   },
   "outputs": [],
   "source": [
    "import pandas as pd\n",
    "import numpy as np\n",
    "import tensorflow as tf"
   ]
  },
  {
   "cell_type": "markdown",
   "metadata": {
    "_uuid": "6c2928fc40d5c55af180d1c0ed8ab245119f8058"
   },
   "source": [
    "   ### Reading in data (and defining necessary constants ) !"
   ]
  },
  {
   "cell_type": "code",
   "execution_count": null,
   "metadata": {
    "_uuid": "3b48d77a068b673064134dcc13733ef975a17d75"
   },
   "outputs": [],
   "source": [
    "full_data = pd.read_csv('../input/train.csv')"
   ]
  },
  {
   "cell_type": "code",
   "execution_count": null,
   "metadata": {
    "_uuid": "59d054666855771fe2a8ddb539790105ad31ed14"
   },
   "outputs": [],
   "source": [
    "LABEL = 'label'"
   ]
  },
  {
   "cell_type": "code",
   "execution_count": null,
   "metadata": {
    "_uuid": "1d3c1a608919d362b5c86e8a5f8c619c4276125e"
   },
   "outputs": [],
   "source": [
    "NUM_PREDICTOR_COLS = 784\n",
    "PREDICTOR_COLS = ['pixel' + str(i) for i in range(NUM_PREDICTOR_COLS)]"
   ]
  },
  {
   "cell_type": "code",
   "execution_count": null,
   "metadata": {
    "_uuid": "33e3814a5ce3f75c67f6d0777f05477ebd84ad25"
   },
   "outputs": [],
   "source": [
    "REL_COLUMNS = PREDICTOR_COLS.copy()\n",
    "REL_COLUMNS.append('label')"
   ]
  },
  {
   "cell_type": "markdown",
   "metadata": {
    "_uuid": "5d0444d52206dd6048288270e552cfa1f8475de2"
   },
   "source": [
    "### Checking for null values."
   ]
  },
  {
   "cell_type": "code",
   "execution_count": null,
   "metadata": {
    "_uuid": "e7f29c21f68a770659a8e69e39abda196d69447d"
   },
   "outputs": [],
   "source": [
    "full_data.isnull().values.any()"
   ]
  },
  {
   "cell_type": "markdown",
   "metadata": {
    "_uuid": "bb0e1ff9cbccee6aefcec540f6740f5d66bd2297"
   },
   "source": [
    "### Split into training and validation sets"
   ]
  },
  {
   "cell_type": "code",
   "execution_count": null,
   "metadata": {
    "_uuid": "0916400e3288b6372a02a595c8b8145ee66045cb"
   },
   "outputs": [],
   "source": [
    "LEN_TRAIN_SET = int(0.8 * len(full_data))\n",
    "train_data = full_data[0:LEN_TRAIN_SET]\n",
    "validation_data = full_data[LEN_TRAIN_SET:len(full_data)]"
   ]
  },
  {
   "cell_type": "code",
   "execution_count": null,
   "metadata": {
    "_uuid": "f05e3b8e082e3c4ac08ee0696751e01df7ddaad9"
   },
   "outputs": [],
   "source": [
    "assert(len(train_data) + len(validation_data) == len(full_data))"
   ]
  },
  {
   "cell_type": "code",
   "execution_count": null,
   "metadata": {
    "_uuid": "c24a936c15aff0a82f967830f770e6c5c82b0449"
   },
   "outputs": [],
   "source": [
    "len(full_data)"
   ]
  },
  {
   "cell_type": "code",
   "execution_count": null,
   "metadata": {
    "_uuid": "6b2fe17de6783b581f4799c12e7a0dcbef79dcef"
   },
   "outputs": [],
   "source": [
    "len(train_data)"
   ]
  },
  {
   "cell_type": "code",
   "execution_count": null,
   "metadata": {
    "_uuid": "3beb121dcd381afc99b8bcfab09b4886c8b5eda1"
   },
   "outputs": [],
   "source": [
    "len(validation_data) "
   ]
  },
  {
   "cell_type": "markdown",
   "metadata": {
    "_uuid": "76b441a24b9150fb56528a58f090e9ea1f2a816e"
   },
   "source": [
    "### Fit model on training data\n"
   ]
  },
  {
   "cell_type": "code",
   "execution_count": null,
   "metadata": {
    "_uuid": "20e58d2df39cb874818d01a6ff9cb8afc63e3abc"
   },
   "outputs": [],
   "source": [
    "def make_train_input_fn(df, num_epochs):\n",
    "    return tf.estimator.inputs.pandas_input_fn(\n",
    "        x=df,\n",
    "        y=df[LABEL],\n",
    "        shuffle=True,\n",
    "        num_epochs=num_epochs)"
   ]
  },
  {
   "cell_type": "code",
   "execution_count": null,
   "metadata": {
    "_uuid": "4ef2bc7f7f05f6612b6941179d77d42adcb9b4d8"
   },
   "outputs": [],
   "source": [
    "def make_eval_input_fn(df):\n",
    "    return tf.estimator.inputs.pandas_input_fn(\n",
    "        x=df,\n",
    "        y=df[LABEL],\n",
    "        shuffle=False)"
   ]
  },
  {
   "cell_type": "code",
   "execution_count": null,
   "metadata": {
    "_uuid": "972c5860cbb0acecacaeb79ce0bd28450cd39e9f"
   },
   "outputs": [],
   "source": [
    "def make_prediction_input_fn(df):\n",
    "    return tf.estimator.inputs.pandas_input_fn(\n",
    "        x=df,\n",
    "        y=None,\n",
    "        shuffle=False)    "
   ]
  },
  {
   "cell_type": "code",
   "execution_count": null,
   "metadata": {
    "_uuid": "270e41f696a4179a0abe8dbc2cea619e42014d0d"
   },
   "outputs": [],
   "source": [
    "def make_features():\n",
    "    input_cols = [tf.feature_column.numeric_column(col) for col in PREDICTOR_COLS]\n",
    "    return input_cols"
   ]
  },
  {
   "cell_type": "code",
   "execution_count": null,
   "metadata": {
    "_uuid": "5884b6a5e058ac1f5c04a145ff86f04fa0166dae"
   },
   "outputs": [],
   "source": [
    "X_train = train_data[PREDICTOR_COLS]\n",
    "Y_train = np.ravel(train_data[['label']])"
   ]
  },
  {
   "cell_type": "code",
   "execution_count": null,
   "metadata": {
    "_uuid": "7fea100b3b75955464690953e2d4d96fa3dda54e"
   },
   "outputs": [],
   "source": [
    "OUTDIR = 'classification_outputs'\n",
    "import shutil\n",
    "shutil.rmtree(OUTDIR, ignore_errors=True)"
   ]
  },
  {
   "cell_type": "code",
   "execution_count": null,
   "metadata": {
    "_uuid": "5f0809b9d87383ad041cf3f416090eb126a502d3"
   },
   "outputs": [],
   "source": [
    "N_CLASSES = 10"
   ]
  },
  {
   "cell_type": "code",
   "execution_count": null,
   "metadata": {
    "_uuid": "9aac95bc0873c7bd6ccacad4943d4b0db118ebf2"
   },
   "outputs": [],
   "source": [
    "model = tf.estimator.LinearClassifier(feature_columns=make_features(),\n",
    "                                       n_classes=N_CLASSES,\n",
    "                                       model_dir=OUTDIR)\n"
   ]
  },
  {
   "cell_type": "code",
   "execution_count": null,
   "metadata": {
    "_uuid": "5e0166dbf80d8f0f5d8ae49b90c29ea149612ad3",
    "scrolled": false
   },
   "outputs": [],
   "source": [
    "model.train(input_fn=make_train_input_fn(train_data[REL_COLUMNS], num_epochs=100))    "
   ]
  },
  {
   "cell_type": "code",
   "execution_count": null,
   "metadata": {
    "_uuid": "7b22bcea37949fa4a899a5219d2a6a27008516d4"
   },
   "outputs": [],
   "source": [
    "metrics = model.evaluate(input_fn = make_eval_input_fn(train_data[REL_COLUMNS]))\n",
    "print(metrics['accuracy'])"
   ]
  },
  {
   "cell_type": "code",
   "execution_count": null,
   "metadata": {
    "_uuid": "2cd0b681fefb24227eb9a4fbae7a3dc77595b703"
   },
   "outputs": [],
   "source": [
    "metrics = model.evaluate(input_fn = make_eval_input_fn(validation_data[REL_COLUMNS]))\n",
    "print(metrics['accuracy'])"
   ]
  },
  {
   "cell_type": "code",
   "execution_count": null,
   "metadata": {
    "_uuid": "f9ac47b31e3aaf5e39e43283f6a504a54462ce37"
   },
   "outputs": [],
   "source": [
    "# Results\n",
    "# Linear Classifier using all components(epoch of 1). Out of sample score : 0.899\n",
    "# Linear Classifier using all components(epoch of 100). Out of sample score : 0.8761\n",
    "# Linear Classifier using PCA (200) components(epoch of 100). Out of sample score : 0.877\n",
    "# Linear Classifier using PCA (300) components(epoch of 100). Out of sample score : 0.876\n",
    "# Linear Classifier using PCA (300) components(epoch of 1). Out of sample score : 0.8864\n",
    "\n"
   ]
  },
  {
   "cell_type": "markdown",
   "metadata": {
    "_uuid": "a7c825583dcc35359715910ed1da617c387b3aae"
   },
   "source": [
    "### Do PCA here"
   ]
  },
  {
   "cell_type": "code",
   "execution_count": null,
   "metadata": {
    "_uuid": "90de83cb961a5c853dae4131a7db196e3fc0cba9"
   },
   "outputs": [],
   "source": [
    "from sklearn.decomposition import PCA"
   ]
  },
  {
   "cell_type": "code",
   "execution_count": null,
   "metadata": {
    "_uuid": "3d665868c56fd13d1b58db460d7f4500d2633188"
   },
   "outputs": [],
   "source": [
    "NUM_PCA_COMPONENTS = 300\n",
    "pca_input = PCA(n_components=NUM_PCA_COMPONENTS)\n",
    "pca_input.fit(train_data[PREDICTOR_COLS])"
   ]
  },
  {
   "cell_type": "code",
   "execution_count": null,
   "metadata": {
    "_uuid": "1a3f053b0294b56268f5bb75aba39bad2df71a10"
   },
   "outputs": [],
   "source": [
    "PCA_COLS = ['pca' + str(i) for i in range(NUM_PCA_COMPONENTS)]\n",
    "REL_PCA_COLUMNS = PCA_COLS.copy()\n",
    "REL_PCA_COLUMNS.append('label')"
   ]
  },
  {
   "cell_type": "code",
   "execution_count": null,
   "metadata": {
    "_uuid": "082a9da32d762e2a8fc35ba332eaa642e9be4560"
   },
   "outputs": [],
   "source": [
    "transformed_train = pca_input.transform(train_data[PREDICTOR_COLS])\n",
    "transformed_validation = pca_input.transform(validation_data[PREDICTOR_COLS])\n",
    "\n",
    "transformed_train_df = pd.DataFrame(transformed_train, columns=PCA_COLS)\n",
    "transformed_validation_df = pd.DataFrame(transformed_validation, columns=PCA_COLS)\n",
    "\n",
    "transformed_train_df[LABEL] = train_data[LABEL].values\n",
    "transformed_validation_df[LABEL] = validation_data[LABEL].values"
   ]
  },
  {
   "cell_type": "code",
   "execution_count": null,
   "metadata": {
    "_uuid": "06aee16e31c3c6ec4c3a459b892985a8ace5ae91"
   },
   "outputs": [],
   "source": [
    "OUTDIR = 'classification_outputs_pca'\n",
    "import shutil\n",
    "shutil.rmtree(OUTDIR, ignore_errors=True)"
   ]
  },
  {
   "cell_type": "code",
   "execution_count": null,
   "metadata": {
    "_uuid": "0d754bab80b06e611386affa02d2abdd8c139ff6"
   },
   "outputs": [],
   "source": [
    "model_pca = tf.estimator.LinearClassifier(\n",
    "    feature_columns=[tf.feature_column.numeric_column(col) for col in PCA_COLS],\n",
    "    n_classes=N_CLASSES,\n",
    "    model_dir=OUTDIR)\n"
   ]
  },
  {
   "cell_type": "code",
   "execution_count": null,
   "metadata": {
    "_uuid": "4d3184b291ab54ed31b5e4fd72ce3ac9122efc97"
   },
   "outputs": [],
   "source": [
    "model_pca.train(input_fn=make_train_input_fn(transformed_train_df[REL_PCA_COLUMNS], num_epochs=1))    "
   ]
  },
  {
   "cell_type": "code",
   "execution_count": null,
   "metadata": {
    "_uuid": "ffa6ec70069e737971bf53f4d4061aae0ce9da94"
   },
   "outputs": [],
   "source": [
    "metrics = model_pca.evaluate(input_fn = make_eval_input_fn(transformed_train_df[REL_PCA_COLUMNS]))\n",
    "print(metrics['accuracy'])"
   ]
  },
  {
   "cell_type": "code",
   "execution_count": null,
   "metadata": {
    "_uuid": "664382a39fe11d9226d51adb51995da67ea58569"
   },
   "outputs": [],
   "source": [
    "metrics = model_pca.evaluate(input_fn = make_eval_input_fn(transformed_validation_df[REL_PCA_COLUMNS]))\n",
    "print(metrics['accuracy'])"
   ]
  },
  {
   "cell_type": "code",
   "execution_count": 1,
   "metadata": {},
   "outputs": [
    {
     "ename": "NameError",
     "evalue": "name 'PREDICTOR_COLS' is not defined",
     "output_type": "error",
     "traceback": [
      "\u001b[0;31m---------------------------------------------------------------------------\u001b[0m",
      "\u001b[0;31mNameError\u001b[0m                                 Traceback (most recent call last)",
      "\u001b[0;32m<ipython-input-1-8f88aeb79120>\u001b[0m in \u001b[0;36m<module>\u001b[0;34m()\u001b[0m\n\u001b[1;32m      1\u001b[0m def get_train_test_data(train_data,\n\u001b[0;32m----> 2\u001b[0;31m                         \u001b[0mX_columns\u001b[0m\u001b[0;34m=\u001b[0m\u001b[0mPREDICTOR_COLS\u001b[0m\u001b[0;34m,\u001b[0m\u001b[0;34m\u001b[0m\u001b[0m\n\u001b[0m\u001b[1;32m      3\u001b[0m                         Y_columns=['label']):\n\u001b[1;32m      4\u001b[0m     \u001b[0;31m# Simple training and testing\u001b[0m\u001b[0;34m\u001b[0m\u001b[0;34m\u001b[0m\u001b[0m\n\u001b[1;32m      5\u001b[0m     \u001b[0mX\u001b[0m \u001b[0;34m=\u001b[0m \u001b[0mtrain_data\u001b[0m\u001b[0;34m[\u001b[0m\u001b[0mX_columns\u001b[0m\u001b[0;34m]\u001b[0m\u001b[0;34m\u001b[0m\u001b[0m\n",
      "\u001b[0;31mNameError\u001b[0m: name 'PREDICTOR_COLS' is not defined"
     ]
    }
   ],
   "source": [
    "def get_train_test_data(train_data,\n",
    "                        X_columns=PREDICTOR_COLS, \n",
    "                        Y_columns=['label']):\n",
    "    # Simple training and testing\n",
    "    X = train_data[X_columns]\n",
    "    Y = train_data[Y_columns]\n",
    " \n",
    "    len_train_set = int(0.8 * len(train_data))\n",
    "    X_train = X[0:len_train_set]\n",
    "    Y_train = Y[0:len_train_set]\n",
    "    X_test = X[len_train_set:len(X)]\n",
    "    Y_test = Y[len_train_set:len(Y)]\n",
    "    rel_train_data = train_data[0:len_train_set]\n",
    "    rel_test_data = train_data[len_train_set:len(train_data)]\n",
    "\n",
    "    return (X_train, X_test, Y_train, Y_test, X, Y, rel_train_data, rel_test_data)\n"
   ]
  },
  {
   "cell_type": "markdown",
   "metadata": {},
   "source": [
    "### Train final model on train data and make predictions on validation set."
   ]
  },
  {
   "cell_type": "code",
   "execution_count": null,
   "metadata": {},
   "outputs": [],
   "source": [
    "(X_train, X_validation, Y_train, Y_validation, X, Y, train_data, validation_data) = get_train_test_data(full_data)\n",
    "model = tf.estimator.LinearClassifier(feature_columns=make_features(),\n",
    "                                       n_classes=N_CLASSES,\n",
    "                                       model_dir=OUTDIR)\n",
    "\n",
    "# Fit the model\n",
    "model.train(input_fn=make_train_input_fn(train_data[REL_COLUMNS], num_epochs=1))    \n",
    "\n",
    "predictions_temp = model.predict(input_fn=make_prediction_input_fn(validation_data[PREDICTOR_COLS]))\n",
    "predictions_validation = [int(i['classes'][0]) for i in predictions_temp]\n",
    "\n",
    "# Make and dump predictions to a file.\n",
    "Y_validation = Y_validation.assign(prediction=predictions_validation)\n",
    "Y_validation['ImageId'] = Y_validation.index\n",
    "Y_validation[['ImageId', 'label', 'prediction']].to_csv('validation_logistic_classification_tensorflow.csv', index=False)\n",
    "print(np.sum(Y_validation['label'] == Y_validation['prediction']) * 100.0/(len(Y_validation)))"
   ]
  },
  {
   "cell_type": "markdown",
   "metadata": {
    "_uuid": "a6576319e4fa591905fd48f3eb1dadee0fca282f"
   },
   "source": [
    "### Making predictions on test data\n",
    "NOTE : I have not included the code for making predictions using the model built using PCA , as we are focussing only on validation score for now."
   ]
  },
  {
   "cell_type": "code",
   "execution_count": null,
   "metadata": {
    "_uuid": "86c6753d6469a55dfc9e591d8e983584778db8e6"
   },
   "outputs": [],
   "source": [
    "test_data = pd.read_csv('../input/test.csv')"
   ]
  },
  {
   "cell_type": "code",
   "execution_count": null,
   "metadata": {},
   "outputs": [],
   "source": [
    "model = tf.estimator.LinearClassifier(feature_columns=make_features(),\n",
    "                                       n_classes=N_CLASSES,\n",
    "                                       model_dir=OUTDIR)\n",
    "\n",
    "# Fit the model\n",
    "model.train(input_fn=make_train_input_fn(full_data[REL_COLUMNS], num_epochs=1))    \n"
   ]
  },
  {
   "cell_type": "code",
   "execution_count": null,
   "metadata": {
    "_uuid": "8051986e1658755bdf5911ec25ef2bdeb6177037"
   },
   "outputs": [],
   "source": [
    "test_predictions = model.predict(input_fn=make_prediction_input_fn(test_data[PREDICTOR_COLS]))"
   ]
  },
  {
   "cell_type": "code",
   "execution_count": null,
   "metadata": {
    "_uuid": "e541851d993ea524e5bb77e696a52312a4d43b3c"
   },
   "outputs": [],
   "source": [
    "test_data['Label'] = [int(i['classes'][0]) for i in test_predictions]"
   ]
  },
  {
   "cell_type": "code",
   "execution_count": null,
   "metadata": {
    "_uuid": "62ac58bd99251ee3433633cc37c4a6301cecd472"
   },
   "outputs": [],
   "source": [
    "test_data['ImageId'] = np.arange(1, len(test_data)+1)"
   ]
  },
  {
   "cell_type": "code",
   "execution_count": null,
   "metadata": {
    "_uuid": "f6c8ea464c58bf96d80192d559f1865bf05f9f87"
   },
   "outputs": [],
   "source": [
    "test_data[['ImageId', 'Label']].to_csv('submission_logistic_classification_tensorflow.csv', index=False)"
   ]
  }
 ],
 "metadata": {
  "kernelspec": {
   "display_name": "Python 3",
   "language": "python",
   "name": "python3"
  },
  "language_info": {
   "codemirror_mode": {
    "name": "ipython",
    "version": 3
   },
   "file_extension": ".py",
   "mimetype": "text/x-python",
   "name": "python",
   "nbconvert_exporter": "python",
   "pygments_lexer": "ipython3",
   "version": "3.6.4"
  }
 },
 "nbformat": 4,
 "nbformat_minor": 1
}
