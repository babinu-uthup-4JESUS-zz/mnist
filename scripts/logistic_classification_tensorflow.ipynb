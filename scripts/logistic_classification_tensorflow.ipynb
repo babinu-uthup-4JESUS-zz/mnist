{
  "cells": [
    {
      "metadata": {
        "_uuid": "0f5f8d81cfc53bbb2327190627986bd886183508",
        "scrolled": true
      },
      "cell_type": "markdown",
      "source": "### Importing necessary stuff !"
    },
    {
      "metadata": {
        "_uuid": "5035175e3d3a38eeb25bd588ea53fedcf1a69c29",
        "trusted": false
      },
      "cell_type": "code",
      "source": "import pandas as pd\nimport numpy as np\nimport tensorflow as tf",
      "execution_count": null,
      "outputs": []
    },
    {
      "metadata": {
        "_uuid": "6c2928fc40d5c55af180d1c0ed8ab245119f8058"
      },
      "cell_type": "markdown",
      "source": "   ### Reading in data (and defining necessary constants ) !"
    },
    {
      "metadata": {
        "_uuid": "3b48d77a068b673064134dcc13733ef975a17d75",
        "trusted": false
      },
      "cell_type": "code",
      "source": "full_data = pd.read_csv('../input/train.csv')",
      "execution_count": null,
      "outputs": []
    },
    {
      "metadata": {
        "_uuid": "59d054666855771fe2a8ddb539790105ad31ed14",
        "trusted": false
      },
      "cell_type": "code",
      "source": "LABEL = 'label'",
      "execution_count": null,
      "outputs": []
    },
    {
      "metadata": {
        "_uuid": "1d3c1a608919d362b5c86e8a5f8c619c4276125e",
        "trusted": false
      },
      "cell_type": "code",
      "source": "NUM_PREDICTOR_COLS = 784\nPREDICTOR_COLS = ['pixel' + str(i) for i in range(NUM_PREDICTOR_COLS)]",
      "execution_count": null,
      "outputs": []
    },
    {
      "metadata": {
        "_uuid": "33e3814a5ce3f75c67f6d0777f05477ebd84ad25",
        "trusted": false
      },
      "cell_type": "code",
      "source": "REL_COLUMNS = PREDICTOR_COLS.copy()\nREL_COLUMNS.append('label')",
      "execution_count": null,
      "outputs": []
    },
    {
      "metadata": {
        "_uuid": "5d0444d52206dd6048288270e552cfa1f8475de2"
      },
      "cell_type": "markdown",
      "source": "### Checking for null values."
    },
    {
      "metadata": {
        "_uuid": "e7f29c21f68a770659a8e69e39abda196d69447d",
        "trusted": false
      },
      "cell_type": "code",
      "source": "full_data.isnull().values.any()",
      "execution_count": null,
      "outputs": []
    },
    {
      "metadata": {
        "_uuid": "bb0e1ff9cbccee6aefcec540f6740f5d66bd2297"
      },
      "cell_type": "markdown",
      "source": "### Split into training and validation sets"
    },
    {
      "metadata": {
        "_uuid": "0916400e3288b6372a02a595c8b8145ee66045cb",
        "trusted": false
      },
      "cell_type": "code",
      "source": "LEN_TRAIN_SET = int(0.8 * len(full_data))\ntrain_data = full_data[0:LEN_TRAIN_SET]\nvalidation_data = full_data[LEN_TRAIN_SET:len(full_data)]",
      "execution_count": null,
      "outputs": []
    },
    {
      "metadata": {
        "_uuid": "f05e3b8e082e3c4ac08ee0696751e01df7ddaad9",
        "trusted": false
      },
      "cell_type": "code",
      "source": "assert(len(train_data) + len(validation_data) == len(full_data))",
      "execution_count": null,
      "outputs": []
    },
    {
      "metadata": {
        "_uuid": "c24a936c15aff0a82f967830f770e6c5c82b0449",
        "trusted": false
      },
      "cell_type": "code",
      "source": "len(full_data)",
      "execution_count": null,
      "outputs": []
    },
    {
      "metadata": {
        "_uuid": "6b2fe17de6783b581f4799c12e7a0dcbef79dcef",
        "trusted": false
      },
      "cell_type": "code",
      "source": "len(train_data)",
      "execution_count": null,
      "outputs": []
    },
    {
      "metadata": {
        "_uuid": "3beb121dcd381afc99b8bcfab09b4886c8b5eda1",
        "trusted": false
      },
      "cell_type": "code",
      "source": "len(validation_data) ",
      "execution_count": null,
      "outputs": []
    },
    {
      "metadata": {
        "_uuid": "76b441a24b9150fb56528a58f090e9ea1f2a816e"
      },
      "cell_type": "markdown",
      "source": "### Fit model on training data\n"
    },
    {
      "metadata": {
        "_uuid": "20e58d2df39cb874818d01a6ff9cb8afc63e3abc",
        "trusted": false
      },
      "cell_type": "code",
      "source": "def make_train_input_fn(df, num_epochs):\n    return tf.estimator.inputs.pandas_input_fn(\n        x=df,\n        y=df[LABEL],\n        shuffle=True,\n        num_epochs=num_epochs)",
      "execution_count": null,
      "outputs": []
    },
    {
      "metadata": {
        "_uuid": "4ef2bc7f7f05f6612b6941179d77d42adcb9b4d8",
        "trusted": false
      },
      "cell_type": "code",
      "source": "def make_eval_input_fn(df):\n    return tf.estimator.inputs.pandas_input_fn(\n        x=df,\n        y=df[LABEL],\n        shuffle=False)",
      "execution_count": null,
      "outputs": []
    },
    {
      "metadata": {
        "_uuid": "972c5860cbb0acecacaeb79ce0bd28450cd39e9f",
        "trusted": false
      },
      "cell_type": "code",
      "source": "def make_prediction_input_fn(df):\n    return tf.estimator.inputs.pandas_input_fn(\n        x=df,\n        y=None,\n        shuffle=False)    ",
      "execution_count": null,
      "outputs": []
    },
    {
      "metadata": {
        "_uuid": "270e41f696a4179a0abe8dbc2cea619e42014d0d",
        "trusted": false
      },
      "cell_type": "code",
      "source": "def make_features():\n    input_cols = [tf.feature_column.numeric_column(col) for col in PREDICTOR_COLS]\n    return input_cols",
      "execution_count": null,
      "outputs": []
    },
    {
      "metadata": {
        "_uuid": "5884b6a5e058ac1f5c04a145ff86f04fa0166dae",
        "trusted": false
      },
      "cell_type": "code",
      "source": "X_train = train_data[PREDICTOR_COLS]\nY_train = np.ravel(train_data[['label']])",
      "execution_count": null,
      "outputs": []
    },
    {
      "metadata": {
        "_uuid": "7fea100b3b75955464690953e2d4d96fa3dda54e",
        "trusted": false
      },
      "cell_type": "code",
      "source": "OUTDIR = 'classification_outputs'\nimport shutil\nshutil.rmtree(OUTDIR, ignore_errors=True)",
      "execution_count": null,
      "outputs": []
    },
    {
      "metadata": {
        "_uuid": "5f0809b9d87383ad041cf3f416090eb126a502d3",
        "trusted": false
      },
      "cell_type": "code",
      "source": "N_CLASSES = 10",
      "execution_count": null,
      "outputs": []
    },
    {
      "metadata": {
        "_uuid": "9aac95bc0873c7bd6ccacad4943d4b0db118ebf2",
        "trusted": false
      },
      "cell_type": "code",
      "source": "model = tf.estimator.LinearClassifier(feature_columns=make_features(),\n                                       n_classes=N_CLASSES,\n                                       model_dir=OUTDIR)\n",
      "execution_count": null,
      "outputs": []
    },
    {
      "metadata": {
        "_uuid": "5e0166dbf80d8f0f5d8ae49b90c29ea149612ad3",
        "scrolled": false,
        "trusted": false
      },
      "cell_type": "code",
      "source": "model.train(input_fn=make_train_input_fn(train_data[REL_COLUMNS], num_epochs=100))    ",
      "execution_count": null,
      "outputs": []
    },
    {
      "metadata": {
        "_uuid": "7b22bcea37949fa4a899a5219d2a6a27008516d4",
        "trusted": false
      },
      "cell_type": "code",
      "source": "metrics = model.evaluate(input_fn = make_eval_input_fn(train_data[REL_COLUMNS]))\nprint(metrics['accuracy'])",
      "execution_count": null,
      "outputs": []
    },
    {
      "metadata": {
        "_uuid": "2cd0b681fefb24227eb9a4fbae7a3dc77595b703",
        "trusted": false
      },
      "cell_type": "code",
      "source": "metrics = model.evaluate(input_fn = make_eval_input_fn(validation_data[REL_COLUMNS]))\nprint(metrics['accuracy'])",
      "execution_count": null,
      "outputs": []
    },
    {
      "metadata": {
        "_uuid": "f9ac47b31e3aaf5e39e43283f6a504a54462ce37",
        "trusted": false
      },
      "cell_type": "code",
      "source": "# Results\n# Linear Classifier using all components(epoch of 1). Out of sample score : 0.899\n# Linear Classifier using all components(epoch of 100). Out of sample score : 0.8761\n# Linear Classifier using PCA (200) components(epoch of 100). Out of sample score : 0.877\n# Linear Classifier using PCA (300) components(epoch of 100). Out of sample score : 0.876\n# Linear Classifier using PCA (300) components(epoch of 1). Out of sample score : 0.8864\n\n",
      "execution_count": null,
      "outputs": []
    },
    {
      "metadata": {
        "_uuid": "a7c825583dcc35359715910ed1da617c387b3aae"
      },
      "cell_type": "markdown",
      "source": "### Do PCA here"
    },
    {
      "metadata": {
        "_uuid": "90de83cb961a5c853dae4131a7db196e3fc0cba9",
        "trusted": false
      },
      "cell_type": "code",
      "source": "from sklearn.decomposition import PCA",
      "execution_count": null,
      "outputs": []
    },
    {
      "metadata": {
        "_uuid": "3d665868c56fd13d1b58db460d7f4500d2633188",
        "trusted": false
      },
      "cell_type": "code",
      "source": "NUM_PCA_COMPONENTS = 300\npca_input = PCA(n_components=NUM_PCA_COMPONENTS)\npca_input.fit(train_data[PREDICTOR_COLS])",
      "execution_count": null,
      "outputs": []
    },
    {
      "metadata": {
        "_uuid": "1a3f053b0294b56268f5bb75aba39bad2df71a10",
        "trusted": false
      },
      "cell_type": "code",
      "source": "PCA_COLS = ['pca' + str(i) for i in range(NUM_PCA_COMPONENTS)]\nREL_PCA_COLUMNS = PCA_COLS.copy()\nREL_PCA_COLUMNS.append('label')",
      "execution_count": null,
      "outputs": []
    },
    {
      "metadata": {
        "_uuid": "082a9da32d762e2a8fc35ba332eaa642e9be4560",
        "trusted": false
      },
      "cell_type": "code",
      "source": "transformed_train = pca_input.transform(train_data[PREDICTOR_COLS])\ntransformed_validation = pca_input.transform(validation_data[PREDICTOR_COLS])\n\ntransformed_train_df = pd.DataFrame(transformed_train, columns=PCA_COLS)\ntransformed_validation_df = pd.DataFrame(transformed_validation, columns=PCA_COLS)\n\ntransformed_train_df[LABEL] = train_data[LABEL].values\ntransformed_validation_df[LABEL] = validation_data[LABEL].values",
      "execution_count": null,
      "outputs": []
    },
    {
      "metadata": {
        "_uuid": "06aee16e31c3c6ec4c3a459b892985a8ace5ae91",
        "trusted": false
      },
      "cell_type": "code",
      "source": "OUTDIR = 'classification_outputs_pca'\nimport shutil\nshutil.rmtree(OUTDIR, ignore_errors=True)",
      "execution_count": null,
      "outputs": []
    },
    {
      "metadata": {
        "_uuid": "0d754bab80b06e611386affa02d2abdd8c139ff6",
        "trusted": false
      },
      "cell_type": "code",
      "source": "model_pca = tf.estimator.LinearClassifier(\n    feature_columns=[tf.feature_column.numeric_column(col) for col in PCA_COLS],\n    n_classes=N_CLASSES,\n    model_dir=OUTDIR)\n",
      "execution_count": null,
      "outputs": []
    },
    {
      "metadata": {
        "_uuid": "4d3184b291ab54ed31b5e4fd72ce3ac9122efc97",
        "trusted": false
      },
      "cell_type": "code",
      "source": "model_pca.train(input_fn=make_train_input_fn(transformed_train_df[REL_PCA_COLUMNS], num_epochs=1))    ",
      "execution_count": null,
      "outputs": []
    },
    {
      "metadata": {
        "_uuid": "ffa6ec70069e737971bf53f4d4061aae0ce9da94",
        "trusted": false
      },
      "cell_type": "code",
      "source": "metrics = model_pca.evaluate(input_fn = make_eval_input_fn(transformed_train_df[REL_PCA_COLUMNS]))\nprint(metrics['accuracy'])",
      "execution_count": null,
      "outputs": []
    },
    {
      "metadata": {
        "_uuid": "664382a39fe11d9226d51adb51995da67ea58569",
        "trusted": false
      },
      "cell_type": "code",
      "source": "metrics = model_pca.evaluate(input_fn = make_eval_input_fn(transformed_validation_df[REL_PCA_COLUMNS]))\nprint(metrics['accuracy'])",
      "execution_count": null,
      "outputs": []
    },
    {
      "metadata": {
        "trusted": false,
        "_uuid": "8efb9d4262683f1513f7ee95cd8a8ca280c9f5cd"
      },
      "cell_type": "code",
      "source": "def get_train_test_data(train_data,\n                        X_columns=PREDICTOR_COLS, \n                        Y_columns=['label']):\n    # Simple training and testing\n    X = train_data[X_columns]\n    Y = train_data[Y_columns]\n \n    len_train_set = int(0.8 * len(train_data))\n    X_train = X[0:len_train_set]\n    Y_train = Y[0:len_train_set]\n    X_test = X[len_train_set:len(X)]\n    Y_test = Y[len_train_set:len(Y)]\n    rel_train_data = train_data[0:len_train_set]\n    rel_test_data = train_data[len_train_set:len(train_data)]\n\n    return (X_train, X_test, Y_train, Y_test, X, Y, rel_train_data, rel_test_data)\n",
      "execution_count": null,
      "outputs": []
    },
    {
      "metadata": {
        "_uuid": "60b4093b4593249f5b921d499134508cf1a80426"
      },
      "cell_type": "markdown",
      "source": "### Train final model on train data and make predictions on validation set."
    },
    {
      "metadata": {
        "trusted": true,
        "_uuid": "4007d06b77f5814f6efb02b9effefe8fc5364e1e"
      },
      "cell_type": "code",
      "source": "OUTDIR = 'classification_outputs_pca'\nimport shutil\nshutil.rmtree(OUTDIR, ignore_errors=True)",
      "execution_count": null,
      "outputs": []
    },
    {
      "metadata": {
        "trusted": false,
        "_uuid": "9fa3a4074fb50a8bfb4de3bad810a1d4165e1bb5"
      },
      "cell_type": "code",
      "source": "(X_train, X_validation, Y_train, Y_validation, X, Y, train_data, validation_data) = get_train_test_data(full_data)\nmodel = tf.estimator.LinearClassifier(feature_columns=make_features(),\n                                       n_classes=N_CLASSES,\n                                       model_dir=OUTDIR)\n\n# Fit the model\nmodel.train(input_fn=make_train_input_fn(train_data[REL_COLUMNS], num_epochs=1))    \n\npredictions_temp = model.predict(input_fn=make_prediction_input_fn(validation_data[PREDICTOR_COLS]))\npredictions_validation = [int(i['classes'][0]) for i in predictions_temp]\n\n# Make and dump predictions to a file.\nY_validation = Y_validation.assign(prediction=predictions_validation)\nY_validation['ImageId'] = Y_validation.index\nY_validation[['ImageId', 'label', 'prediction']].to_csv('validation_logistic_classification_tensorflow.csv', index=False)\nprint(np.sum(Y_validation['label'] == Y_validation['prediction']) * 100.0/(len(Y_validation)))",
      "execution_count": null,
      "outputs": []
    },
    {
      "metadata": {
        "_uuid": "a6576319e4fa591905fd48f3eb1dadee0fca282f"
      },
      "cell_type": "markdown",
      "source": "### Making predictions on test data\nNOTE : I have not included the code for making predictions using the model built using PCA , as we are focussing only on validation score for now."
    },
    {
      "metadata": {
        "_uuid": "86c6753d6469a55dfc9e591d8e983584778db8e6",
        "trusted": false
      },
      "cell_type": "code",
      "source": "test_data = pd.read_csv('../input/test.csv')",
      "execution_count": null,
      "outputs": []
    },
    {
      "metadata": {
        "trusted": true,
        "_uuid": "4729073a3020031e36ddca5a0f2423ac4cc91cc2"
      },
      "cell_type": "code",
      "source": "OUTDIR = 'classification_outputs_pca'\nimport shutil\nshutil.rmtree(OUTDIR, ignore_errors=True)",
      "execution_count": null,
      "outputs": []
    },
    {
      "metadata": {
        "trusted": false,
        "_uuid": "6c1c3def2a48799224b47a8f17e012b1b53c38c6"
      },
      "cell_type": "code",
      "source": "model = tf.estimator.LinearClassifier(feature_columns=make_features(),\n                                       n_classes=N_CLASSES,\n                                       model_dir=OUTDIR)\n\n# Fit the model\nmodel.train(input_fn=make_train_input_fn(full_data[REL_COLUMNS], num_epochs=1))    \n",
      "execution_count": null,
      "outputs": []
    },
    {
      "metadata": {
        "_uuid": "8051986e1658755bdf5911ec25ef2bdeb6177037",
        "trusted": false
      },
      "cell_type": "code",
      "source": "test_predictions = model.predict(input_fn=make_prediction_input_fn(test_data[PREDICTOR_COLS]))",
      "execution_count": null,
      "outputs": []
    },
    {
      "metadata": {
        "_uuid": "e541851d993ea524e5bb77e696a52312a4d43b3c",
        "trusted": false
      },
      "cell_type": "code",
      "source": "test_data['Label'] = [int(i['classes'][0]) for i in test_predictions]",
      "execution_count": null,
      "outputs": []
    },
    {
      "metadata": {
        "_uuid": "62ac58bd99251ee3433633cc37c4a6301cecd472",
        "trusted": false
      },
      "cell_type": "code",
      "source": "test_data['ImageId'] = np.arange(1, len(test_data)+1)",
      "execution_count": null,
      "outputs": []
    },
    {
      "metadata": {
        "_uuid": "f6c8ea464c58bf96d80192d559f1865bf05f9f87",
        "trusted": false
      },
      "cell_type": "code",
      "source": "test_data[['ImageId', 'Label']].to_csv('submission_logistic_classification_tensorflow.csv', index=False)",
      "execution_count": null,
      "outputs": []
    }
  ],
  "metadata": {
    "kernelspec": {
      "display_name": "Python 3",
      "language": "python",
      "name": "python3"
    },
    "language_info": {
      "name": "python",
      "version": "3.6.6",
      "mimetype": "text/x-python",
      "codemirror_mode": {
        "name": "ipython",
        "version": 3
      },
      "pygments_lexer": "ipython3",
      "nbconvert_exporter": "python",
      "file_extension": ".py"
    }
  },
  "nbformat": 4,
  "nbformat_minor": 1
}