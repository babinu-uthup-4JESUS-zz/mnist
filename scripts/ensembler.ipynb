{
 "cells": [
  {
   "cell_type": "markdown",
   "metadata": {},
   "source": [
    "\n",
    "# Basic Overview\n",
    "Given all the models, which we have built, the idea is to intelligently ensemble them so as to a get a more powerful one.\n",
    "\n",
    "Source of data : https://www.kaggle.com/c/digit-recognizer/data"
   ]
  },
  {
   "cell_type": "code",
   "execution_count": 27,
   "metadata": {},
   "outputs": [],
   "source": [
    "import pandas as pd\n",
    "import numpy as np\n",
    "import os\n",
    "import re"
   ]
  },
  {
   "cell_type": "code",
   "execution_count": 28,
   "metadata": {},
   "outputs": [],
   "source": [
    "import seaborn as sns\n",
    "import matplotlib.pyplot as plt"
   ]
  },
  {
   "cell_type": "markdown",
   "metadata": {},
   "source": [
    "### Listing all relevant routines, that will be used for ensembling."
   ]
  },
  {
   "cell_type": "code",
   "execution_count": 81,
   "metadata": {},
   "outputs": [],
   "source": [
    "def populate_model_files_data(files):\n",
    "    count = 0\n",
    "    master_df = pd.DataFrame()\n",
    "    count_to_file_name = dict()\n",
    "    for  csv_file in files:\n",
    "        count += 1\n",
    "        data_df = pd.read_csv(csv_file)\n",
    "        column_name = 'prediction_model_' + str(count)\n",
    "\n",
    "        survived_list = data_df['prediction'].values\n",
    "        master_df[column_name] = survived_list\n",
    "        \n",
    "        master_df['ImageId'] = data_df['ImageId'].values\n",
    "        master_df['label'] = data_df['label'].values        \n",
    "        count_to_file_name[count] = csv_file\n",
    "        prev_survived_list = survived_list\n",
    "    return master_df "
   ]
  },
  {
   "cell_type": "code",
   "execution_count": 30,
   "metadata": {},
   "outputs": [],
   "source": [
    "def display_corr_info(master_df, generate_corr_heat_map):\n",
    "    relevant_cols = [col for col in master_df.columns if col not in ['ImageId'] and 'label' not in col]\n",
    "\n",
    "    print(\"                              CORRELATION MATRIX OF MODEL OUTPUTS\")\n",
    "    display(master_df[relevant_cols].corr())\n",
    "    if generate_corr_heat_map:\n",
    "        fig, ax = plt.subplots(1, 1, figsize=(16, 9))\n",
    "        sns.heatmap(master_df[relevant_cols].corr(), ax=ax)    "
   ]
  },
  {
   "cell_type": "code",
   "execution_count": 31,
   "metadata": {},
   "outputs": [],
   "source": [
    "def get_most_frequent_entry_3(a, b, c):\n",
    "    sum_vals = a + b + c\n",
    "    \n",
    "    if a==b:\n",
    "        frequent_val = a\n",
    "    elif b==c:\n",
    "        frequent_val = b\n",
    "    elif a==c:\n",
    "        frequent_val = c\n",
    "    else:\n",
    "        print(\"All three values are different. Proceeding with the first one\")\n",
    "        frequent_val = a\n",
    "    return frequent_val"
   ]
  },
  {
   "cell_type": "code",
   "execution_count": 80,
   "metadata": {},
   "outputs": [],
   "source": [
    "def update_ensembled_cols(master_df):\n",
    "    \n",
    "    # Decrease by 2 to account for ImageId and label columns.\n",
    "    num_files = len(master_df.columns) - 2\n",
    "    if num_files == 3:\n",
    "        master_df['prediction_ensembled'] = master_df.apply(\n",
    "            lambda x : get_most_frequent_entry_3(x['prediction_model_1'], \n",
    "                                                 x['prediction_model_2'], \n",
    "                                                 x['prediction_model_3']), axis=1)    \n",
    "    print(master_df.columns)\n",
    "    master_df.sort_values(by=['ImageId'], inplace=True)"
   ]
  },
  {
   "cell_type": "code",
   "execution_count": 33,
   "metadata": {},
   "outputs": [],
   "source": [
    "def display_commonalities_stats(master_df, files):\n",
    "    print(\"                              COMMONALITY STATS\\n\")\n",
    "    print(\"Number of entries to be predicted         : {0}\".format(len(master_df)))\n",
    "    for i in range(len(files)):\n",
    "        index = i + 1\n",
    "        rel_csv_file = files[i]\n",
    "        print(\"\\nRelevant model file                       : {0}\".format(rel_csv_file))    \n",
    "        single_model_prediction_col = 'prediction_model_' + str(index)\n",
    "        num_common_entries = np.sum(master_df[single_model_prediction_col] == master_df['prediction_ensembled'])\n",
    "        print(\"Number of entries common with final model : {0}\".format(num_common_entries))        "
   ]
  },
  {
   "cell_type": "code",
   "execution_count": 70,
   "metadata": {},
   "outputs": [],
   "source": [
    "def display_correctness_files(files):\n",
    "    print(\"                              CORRECTNESS STATS\\n\")\n",
    "    for i in range(len(files)):\n",
    "        index = i + 1\n",
    "        rel_csv_file = files[i]\n",
    "        display_correctness_each_file(rel_csv_file)\n",
    "    print(\"\\n\")"
   ]
  },
  {
   "cell_type": "code",
   "execution_count": 69,
   "metadata": {},
   "outputs": [],
   "source": [
    "def display_correctness_each_file(rel_csv_file):\n",
    "    \n",
    "    data_df = pd.read_csv(rel_csv_file)\n",
    "    correctness_percent = np.sum((data_df['label'] == data_df['prediction']))*100.0/(len(data_df))\n",
    "    \n",
    "    print(\"\\nRelevant model file                       : {0}\".format(rel_csv_file))    \n",
    "    print(\"Percent of correct predictions            : {:0.2f}\".format(correctness_percent))    \n",
    "    "
   ]
  },
  {
   "cell_type": "code",
   "execution_count": 83,
   "metadata": {},
   "outputs": [],
   "source": [
    "def dump_predictions_to_csv(master_df, csv_file):\n",
    "    predictions_to_kaggle = master_df[['ImageId', 'prediction_ensembled', 'label']].copy()\n",
    "    predictions_to_kaggle.rename(columns={'prediction_ensembled' : 'prediction'}, inplace=True)\n",
    "    predictions_to_kaggle.to_csv(csv_file, index=False)    "
   ]
  },
  {
   "cell_type": "code",
   "execution_count": 49,
   "metadata": {},
   "outputs": [],
   "source": [
    "def generate_ensembled_predictions_and_verify_results(files, generate_corr_heat_map=False, \n",
    "                                                      generate_csv=False, csv_file='temp.csv'):\n",
    "    master_df = populate_model_files_data(files)\n",
    "    \n",
    "    # Display correlation info amongst predictors as a matrix as well as  heatmap\n",
    "    display_corr_info(master_df, generate_corr_heat_map)\n",
    "    \n",
    "    display_correctness_files(files)\n",
    "    \n",
    "    # The core routine for selecting the majority vote as the ensembled prediction.\n",
    "    update_ensembled_cols(master_df)\n",
    "    \n",
    "    \n",
    "    # How common are the ensembled predictions \n",
    "    display_commonalities_stats(master_df, files)\n",
    "    \n",
    "    if generate_csv:\n",
    "        dump_predictions_to_csv(master_df, csv_file)\n"
   ]
  },
  {
   "cell_type": "markdown",
   "metadata": {},
   "source": [
    "### Listing models by their out of sample performance\n",
    "\n",
    "Before we set out in our ensembling journey, let us list the output files corresponding to each model and their respective out of sample performances."
   ]
  },
  {
   "cell_type": "markdown",
   "metadata": {},
   "source": [
    "### Starting with the ensembler.\n",
    "\n",
    "We start with the default ensembler with our 3 best models."
   ]
  },
  {
   "cell_type": "code",
   "execution_count": 74,
   "metadata": {},
   "outputs": [],
   "source": [
    "files = [\n",
    "        'validation_boosting_trees_xgboost.csv',\n",
    "        'validation_randomforest_sklearn.csv',\n",
    "        'validation_dnn_tensorflow.csv'\n",
    "        ]\n"
   ]
  },
  {
   "cell_type": "code",
   "execution_count": 84,
   "metadata": {},
   "outputs": [
    {
     "name": "stdout",
     "output_type": "stream",
     "text": [
      "                              CORRELATION MATRIX OF MODEL OUTPUTS\n"
     ]
    },
    {
     "data": {
      "text/html": [
       "<div>\n",
       "<style scoped>\n",
       "    .dataframe tbody tr th:only-of-type {\n",
       "        vertical-align: middle;\n",
       "    }\n",
       "\n",
       "    .dataframe tbody tr th {\n",
       "        vertical-align: top;\n",
       "    }\n",
       "\n",
       "    .dataframe thead th {\n",
       "        text-align: right;\n",
       "    }\n",
       "</style>\n",
       "<table border=\"1\" class=\"dataframe\">\n",
       "  <thead>\n",
       "    <tr style=\"text-align: right;\">\n",
       "      <th></th>\n",
       "      <th>prediction_model_1</th>\n",
       "      <th>prediction_model_2</th>\n",
       "      <th>prediction_model_3</th>\n",
       "    </tr>\n",
       "  </thead>\n",
       "  <tbody>\n",
       "    <tr>\n",
       "      <th>prediction_model_1</th>\n",
       "      <td>1.000000</td>\n",
       "      <td>0.974931</td>\n",
       "      <td>0.970737</td>\n",
       "    </tr>\n",
       "    <tr>\n",
       "      <th>prediction_model_2</th>\n",
       "      <td>0.974931</td>\n",
       "      <td>1.000000</td>\n",
       "      <td>0.966139</td>\n",
       "    </tr>\n",
       "    <tr>\n",
       "      <th>prediction_model_3</th>\n",
       "      <td>0.970737</td>\n",
       "      <td>0.966139</td>\n",
       "      <td>1.000000</td>\n",
       "    </tr>\n",
       "  </tbody>\n",
       "</table>\n",
       "</div>"
      ],
      "text/plain": [
       "                    prediction_model_1  prediction_model_2  prediction_model_3\n",
       "prediction_model_1            1.000000            0.974931            0.970737\n",
       "prediction_model_2            0.974931            1.000000            0.966139\n",
       "prediction_model_3            0.970737            0.966139            1.000000"
      ]
     },
     "metadata": {},
     "output_type": "display_data"
    },
    {
     "name": "stdout",
     "output_type": "stream",
     "text": [
      "                              CORRECTNESS STATS\n",
      "\n",
      "\n",
      "Relevant model file                       : validation_boosting_trees_xgboost.csv\n",
      "Percent of correct predictions            : 97.23\n",
      "\n",
      "Relevant model file                       : validation_randomforest_sklearn.csv\n",
      "Percent of correct predictions            : 96.90\n",
      "\n",
      "Relevant model file                       : validation_dnn_tensorflow.csv\n",
      "Percent of correct predictions            : 97.12\n",
      "\n",
      "\n",
      "All three values are different. Proceeding with the first one\n",
      "All three values are different. Proceeding with the first one\n",
      "All three values are different. Proceeding with the first one\n",
      "All three values are different. Proceeding with the first one\n",
      "All three values are different. Proceeding with the first one\n",
      "All three values are different. Proceeding with the first one\n",
      "All three values are different. Proceeding with the first one\n",
      "All three values are different. Proceeding with the first one\n",
      "All three values are different. Proceeding with the first one\n",
      "All three values are different. Proceeding with the first one\n",
      "All three values are different. Proceeding with the first one\n",
      "All three values are different. Proceeding with the first one\n",
      "All three values are different. Proceeding with the first one\n",
      "All three values are different. Proceeding with the first one\n",
      "All three values are different. Proceeding with the first one\n",
      "All three values are different. Proceeding with the first one\n",
      "All three values are different. Proceeding with the first one\n",
      "All three values are different. Proceeding with the first one\n",
      "All three values are different. Proceeding with the first one\n",
      "All three values are different. Proceeding with the first one\n",
      "All three values are different. Proceeding with the first one\n",
      "All three values are different. Proceeding with the first one\n",
      "All three values are different. Proceeding with the first one\n",
      "All three values are different. Proceeding with the first one\n",
      "All three values are different. Proceeding with the first one\n",
      "Index(['prediction_model_1', 'ImageId', 'label', 'prediction_model_2',\n",
      "       'prediction_model_3', 'prediction_ensembled'],\n",
      "      dtype='object')\n",
      "                              COMMONALITY STATS\n",
      "\n",
      "Number of entries to be predicted         : 8400\n",
      "\n",
      "Relevant model file                       : validation_boosting_trees_xgboost.csv\n",
      "Number of entries common with final model : 8330\n",
      "\n",
      "Relevant model file                       : validation_randomforest_sklearn.csv\n",
      "Number of entries common with final model : 8281\n",
      "\n",
      "Relevant model file                       : validation_dnn_tensorflow.csv\n",
      "Number of entries common with final model : 8235\n"
     ]
    }
   ],
   "source": [
    "generate_ensembled_predictions_and_verify_results(files, \n",
    "                                                  generate_corr_heat_map=False, \n",
    "                                                  generate_csv=True,\n",
    "                                                  csv_file='validation_ensembled_model.csv')"
   ]
  },
  {
   "cell_type": "code",
   "execution_count": 85,
   "metadata": {},
   "outputs": [
    {
     "name": "stdout",
     "output_type": "stream",
     "text": [
      "\n",
      "Relevant model file                       : validation_ensembled_model.csv\n",
      "Percent of correct predictions            : 97.52\n"
     ]
    }
   ],
   "source": [
    "display_correctness_each_file('validation_ensembled_model.csv')"
   ]
  }
 ],
 "metadata": {
  "kernelspec": {
   "display_name": "Python 3",
   "language": "python",
   "name": "python3"
  },
  "language_info": {
   "codemirror_mode": {
    "name": "ipython",
    "version": 3
   },
   "file_extension": ".py",
   "mimetype": "text/x-python",
   "name": "python",
   "nbconvert_exporter": "python",
   "pygments_lexer": "ipython3",
   "version": "3.6.4"
  }
 },
 "nbformat": 4,
 "nbformat_minor": 2
}
