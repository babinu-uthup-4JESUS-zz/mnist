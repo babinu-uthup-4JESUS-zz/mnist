{
 "cells": [
  {
   "cell_type": "markdown",
   "metadata": {
    "_uuid": "0f5f8d81cfc53bbb2327190627986bd886183508",
    "scrolled": true
   },
   "source": [
    "### Importing necessary stuff !"
   ]
  },
  {
   "cell_type": "code",
   "execution_count": 1,
   "metadata": {
    "_uuid": "5035175e3d3a38eeb25bd588ea53fedcf1a69c29"
   },
   "outputs": [
    {
     "name": "stderr",
     "output_type": "stream",
     "text": [
      "/Users/babs4JESUS/anaconda3/lib/python3.6/site-packages/h5py/__init__.py:36: FutureWarning: Conversion of the second argument of issubdtype from `float` to `np.floating` is deprecated. In future, it will be treated as `np.float64 == np.dtype(float).type`.\n",
      "  from ._conv import register_converters as _register_converters\n"
     ]
    }
   ],
   "source": [
    "import pandas as pd\n",
    "import numpy as np\n",
    "import tensorflow as tf"
   ]
  },
  {
   "cell_type": "markdown",
   "metadata": {
    "_uuid": "6c2928fc40d5c55af180d1c0ed8ab245119f8058"
   },
   "source": [
    " ### Reading in data (and defining necessary constants ) !"
   ]
  },
  {
   "cell_type": "code",
   "execution_count": 2,
   "metadata": {
    "_uuid": "3b48d77a068b673064134dcc13733ef975a17d75"
   },
   "outputs": [],
   "source": [
    "full_data = pd.read_csv('../input/train.csv')"
   ]
  },
  {
   "cell_type": "code",
   "execution_count": 3,
   "metadata": {
    "_uuid": "59d054666855771fe2a8ddb539790105ad31ed14"
   },
   "outputs": [],
   "source": [
    "LABEL = 'label'"
   ]
  },
  {
   "cell_type": "code",
   "execution_count": 4,
   "metadata": {
    "_uuid": "1d3c1a608919d362b5c86e8a5f8c619c4276125e"
   },
   "outputs": [],
   "source": [
    "NUM_PREDICTOR_COLS = 784\n",
    "PREDICTOR_COLS = ['pixel' + str(i) for i in range(NUM_PREDICTOR_COLS)]"
   ]
  },
  {
   "cell_type": "code",
   "execution_count": 5,
   "metadata": {
    "_uuid": "33e3814a5ce3f75c67f6d0777f05477ebd84ad25"
   },
   "outputs": [],
   "source": [
    "REL_COLUMNS = PREDICTOR_COLS.copy()\n",
    "REL_COLUMNS.append('label')"
   ]
  },
  {
   "cell_type": "markdown",
   "metadata": {
    "_uuid": "5d0444d52206dd6048288270e552cfa1f8475de2"
   },
   "source": [
    "### Checking for null values."
   ]
  },
  {
   "cell_type": "code",
   "execution_count": 6,
   "metadata": {
    "_uuid": "e7f29c21f68a770659a8e69e39abda196d69447d"
   },
   "outputs": [
    {
     "data": {
      "text/plain": [
       "False"
      ]
     },
     "execution_count": 6,
     "metadata": {},
     "output_type": "execute_result"
    }
   ],
   "source": [
    "full_data.isnull().values.any()"
   ]
  },
  {
   "cell_type": "markdown",
   "metadata": {
    "_uuid": "bb0e1ff9cbccee6aefcec540f6740f5d66bd2297"
   },
   "source": [
    "### Split into training and validation sets"
   ]
  },
  {
   "cell_type": "code",
   "execution_count": 7,
   "metadata": {
    "_uuid": "0916400e3288b6372a02a595c8b8145ee66045cb"
   },
   "outputs": [],
   "source": [
    "LEN_TRAIN_SET = int(0.8 * len(full_data))\n",
    "train_data = full_data[0:LEN_TRAIN_SET]\n",
    "validation_data = full_data[LEN_TRAIN_SET:len(full_data)]"
   ]
  },
  {
   "cell_type": "code",
   "execution_count": 8,
   "metadata": {
    "_uuid": "f05e3b8e082e3c4ac08ee0696751e01df7ddaad9"
   },
   "outputs": [],
   "source": [
    "assert(len(train_data) + len(validation_data) == len(full_data))"
   ]
  },
  {
   "cell_type": "code",
   "execution_count": 9,
   "metadata": {
    "_uuid": "c24a936c15aff0a82f967830f770e6c5c82b0449"
   },
   "outputs": [
    {
     "data": {
      "text/plain": [
       "42000"
      ]
     },
     "execution_count": 9,
     "metadata": {},
     "output_type": "execute_result"
    }
   ],
   "source": [
    "len(full_data)"
   ]
  },
  {
   "cell_type": "code",
   "execution_count": 10,
   "metadata": {
    "_uuid": "6b2fe17de6783b581f4799c12e7a0dcbef79dcef"
   },
   "outputs": [
    {
     "data": {
      "text/plain": [
       "33600"
      ]
     },
     "execution_count": 10,
     "metadata": {},
     "output_type": "execute_result"
    }
   ],
   "source": [
    "len(train_data)"
   ]
  },
  {
   "cell_type": "code",
   "execution_count": 11,
   "metadata": {
    "_uuid": "3beb121dcd381afc99b8bcfab09b4886c8b5eda1"
   },
   "outputs": [
    {
     "data": {
      "text/plain": [
       "8400"
      ]
     },
     "execution_count": 11,
     "metadata": {},
     "output_type": "execute_result"
    }
   ],
   "source": [
    "len(validation_data) "
   ]
  },
  {
   "cell_type": "markdown",
   "metadata": {
    "_uuid": "76b441a24b9150fb56528a58f090e9ea1f2a816e"
   },
   "source": [
    "### Fit model on training data\n"
   ]
  },
  {
   "cell_type": "code",
   "execution_count": 12,
   "metadata": {
    "_uuid": "20e58d2df39cb874818d01a6ff9cb8afc63e3abc"
   },
   "outputs": [],
   "source": [
    "def make_train_input_fn(df, num_epochs):\n",
    "    return tf.estimator.inputs.pandas_input_fn(\n",
    "        x=df,\n",
    "        y=df[LABEL],\n",
    "        shuffle=True,\n",
    "        num_epochs=num_epochs)"
   ]
  },
  {
   "cell_type": "code",
   "execution_count": 13,
   "metadata": {
    "_uuid": "4ef2bc7f7f05f6612b6941179d77d42adcb9b4d8"
   },
   "outputs": [],
   "source": [
    "def make_eval_input_fn(df):\n",
    "    return tf.estimator.inputs.pandas_input_fn(\n",
    "        x=df,\n",
    "        y=df[LABEL],\n",
    "        shuffle=False)"
   ]
  },
  {
   "cell_type": "code",
   "execution_count": 14,
   "metadata": {
    "_uuid": "972c5860cbb0acecacaeb79ce0bd28450cd39e9f"
   },
   "outputs": [],
   "source": [
    "def make_prediction_input_fn(df):\n",
    "    return tf.estimator.inputs.pandas_input_fn(\n",
    "        x=df,\n",
    "        y=None,\n",
    "        shuffle=False)    "
   ]
  },
  {
   "cell_type": "code",
   "execution_count": 15,
   "metadata": {
    "_uuid": "270e41f696a4179a0abe8dbc2cea619e42014d0d"
   },
   "outputs": [],
   "source": [
    "def make_features():\n",
    "    input_cols = [tf.feature_column.numeric_column(col) for col in PREDICTOR_COLS]\n",
    "    return input_cols"
   ]
  },
  {
   "cell_type": "code",
   "execution_count": 16,
   "metadata": {
    "_uuid": "5884b6a5e058ac1f5c04a145ff86f04fa0166dae"
   },
   "outputs": [],
   "source": [
    "X_train = train_data[PREDICTOR_COLS]\n",
    "Y_train = np.ravel(train_data[['label']])"
   ]
  },
  {
   "cell_type": "code",
   "execution_count": 17,
   "metadata": {
    "_uuid": "7fea100b3b75955464690953e2d4d96fa3dda54e"
   },
   "outputs": [],
   "source": [
    "OUTDIR = 'classification_outputs'\n",
    "import shutil\n",
    "shutil.rmtree(OUTDIR, ignore_errors=True)"
   ]
  },
  {
   "cell_type": "code",
   "execution_count": 18,
   "metadata": {
    "_uuid": "5f0809b9d87383ad041cf3f416090eb126a502d3"
   },
   "outputs": [],
   "source": [
    "N_CLASSES = 10"
   ]
  },
  {
   "cell_type": "code",
   "execution_count": 19,
   "metadata": {
    "_uuid": "e08338237e739fba85f0c1e22c9934bc8cb30f39"
   },
   "outputs": [],
   "source": [
    "HIDDEN_UNITS = [256, 32]"
   ]
  },
  {
   "cell_type": "code",
   "execution_count": 20,
   "metadata": {
    "_uuid": "9aac95bc0873c7bd6ccacad4943d4b0db118ebf2"
   },
   "outputs": [
    {
     "name": "stdout",
     "output_type": "stream",
     "text": [
      "INFO:tensorflow:Using default config.\n",
      "INFO:tensorflow:Using config: {'_model_dir': 'classification_outputs', '_tf_random_seed': None, '_save_summary_steps': 100, '_save_checkpoints_steps': None, '_save_checkpoints_secs': 600, '_session_config': allow_soft_placement: true\n",
      "graph_options {\n",
      "  rewrite_options {\n",
      "    meta_optimizer_iterations: ONE\n",
      "  }\n",
      "}\n",
      ", '_keep_checkpoint_max': 5, '_keep_checkpoint_every_n_hours': 10000, '_log_step_count_steps': 100, '_train_distribute': None, '_device_fn': None, '_protocol': None, '_eval_distribute': None, '_experimental_distribute': None, '_service': None, '_cluster_spec': <tensorflow.python.training.server_lib.ClusterSpec object at 0x10284e748>, '_task_type': 'worker', '_task_id': 0, '_global_id_in_cluster': 0, '_master': '', '_evaluation_master': '', '_is_chief': True, '_num_ps_replicas': 0, '_num_worker_replicas': 1}\n"
     ]
    }
   ],
   "source": [
    "model = tf.estimator.DNNClassifier(feature_columns=make_features(),\n",
    "                                   hidden_units=HIDDEN_UNITS,\n",
    "                                   n_classes=N_CLASSES,\n",
    "                                   dropout=0.2,\n",
    "                                   optimizer=tf.train.AdamOptimizer(1e-3),\n",
    "                                   model_dir=OUTDIR)\n"
   ]
  },
  {
   "cell_type": "code",
   "execution_count": 21,
   "metadata": {
    "_uuid": "5e0166dbf80d8f0f5d8ae49b90c29ea149612ad3",
    "scrolled": false
   },
   "outputs": [
    {
     "name": "stdout",
     "output_type": "stream",
     "text": [
      "WARNING:tensorflow:From /Users/babs4JESUS/anaconda3/lib/python3.6/site-packages/tensorflow/python/estimator/inputs/queues/feeding_queue_runner.py:62: QueueRunner.__init__ (from tensorflow.python.training.queue_runner_impl) is deprecated and will be removed in a future version.\n",
      "Instructions for updating:\n",
      "To construct input pipelines, use the `tf.data` module.\n",
      "WARNING:tensorflow:From /Users/babs4JESUS/anaconda3/lib/python3.6/site-packages/tensorflow/python/estimator/inputs/queues/feeding_functions.py:500: add_queue_runner (from tensorflow.python.training.queue_runner_impl) is deprecated and will be removed in a future version.\n",
      "Instructions for updating:\n",
      "To construct input pipelines, use the `tf.data` module.\n",
      "INFO:tensorflow:Calling model_fn.\n",
      "INFO:tensorflow:Done calling model_fn.\n",
      "INFO:tensorflow:Create CheckpointSaverHook.\n",
      "INFO:tensorflow:Graph was finalized.\n",
      "INFO:tensorflow:Running local_init_op.\n",
      "INFO:tensorflow:Done running local_init_op.\n",
      "WARNING:tensorflow:From /Users/babs4JESUS/anaconda3/lib/python3.6/site-packages/tensorflow/python/training/monitored_session.py:804: start_queue_runners (from tensorflow.python.training.queue_runner_impl) is deprecated and will be removed in a future version.\n",
      "Instructions for updating:\n",
      "To construct input pipelines, use the `tf.data` module.\n",
      "INFO:tensorflow:Saving checkpoints for 0 into classification_outputs/model.ckpt.\n",
      "INFO:tensorflow:loss = 18152.53, step = 1\n",
      "INFO:tensorflow:global_step/sec: 6.45309\n",
      "INFO:tensorflow:loss = 315.3837, step = 101 (15.493 sec)\n",
      "INFO:tensorflow:global_step/sec: 8.1686\n",
      "INFO:tensorflow:loss = 260.54797, step = 201 (12.242 sec)\n",
      "INFO:tensorflow:Saving checkpoints for 263 into classification_outputs/model.ckpt.\n",
      "INFO:tensorflow:Loss for final step: 126.65021.\n"
     ]
    },
    {
     "data": {
      "text/plain": [
       "<tensorflow.python.estimator.canned.dnn.DNNClassifier at 0x1814e11f98>"
      ]
     },
     "execution_count": 21,
     "metadata": {},
     "output_type": "execute_result"
    }
   ],
   "source": [
    "NUM_EPOCHS = 100\n",
    "model.train(input_fn=make_train_input_fn(train_data[REL_COLUMNS], num_epochs=NUM_EPOCHS))    "
   ]
  },
  {
   "cell_type": "code",
   "execution_count": 22,
   "metadata": {
    "_uuid": "7b22bcea37949fa4a899a5219d2a6a27008516d4"
   },
   "outputs": [
    {
     "name": "stdout",
     "output_type": "stream",
     "text": [
      "INFO:tensorflow:Calling model_fn.\n",
      "INFO:tensorflow:Done calling model_fn.\n",
      "INFO:tensorflow:Starting evaluation at 2019-02-18-16:20:16\n",
      "INFO:tensorflow:Graph was finalized.\n",
      "INFO:tensorflow:Restoring parameters from classification_outputs/model.ckpt-263\n",
      "INFO:tensorflow:Running local_init_op.\n",
      "INFO:tensorflow:Done running local_init_op.\n",
      "INFO:tensorflow:Finished evaluation at 2019-02-18-16:20:56\n",
      "INFO:tensorflow:Saving dict for global step 263: accuracy = 0.24056548, average_loss = 1.9816853, global_step = 263, loss = 253.17348\n",
      "INFO:tensorflow:Saving 'checkpoint_path' summary for global step 263: classification_outputs/model.ckpt-263\n",
      "0.24056548\n"
     ]
    }
   ],
   "source": [
    "metrics = model.evaluate(input_fn = make_eval_input_fn(train_data[REL_COLUMNS]))\n",
    "print(metrics['accuracy'])"
   ]
  },
  {
   "cell_type": "code",
   "execution_count": 23,
   "metadata": {
    "_uuid": "2cd0b681fefb24227eb9a4fbae7a3dc77595b703"
   },
   "outputs": [
    {
     "name": "stdout",
     "output_type": "stream",
     "text": [
      "INFO:tensorflow:Calling model_fn.\n",
      "INFO:tensorflow:Done calling model_fn.\n",
      "INFO:tensorflow:Starting evaluation at 2019-02-18-16:21:03\n",
      "INFO:tensorflow:Graph was finalized.\n",
      "INFO:tensorflow:Restoring parameters from classification_outputs/model.ckpt-263\n",
      "INFO:tensorflow:Running local_init_op.\n",
      "INFO:tensorflow:Done running local_init_op.\n",
      "INFO:tensorflow:Finished evaluation at 2019-02-18-16:21:16\n",
      "INFO:tensorflow:Saving dict for global step 263: accuracy = 0.24345239, average_loss = 1.9717286, global_step = 263, loss = 250.94727\n",
      "INFO:tensorflow:Saving 'checkpoint_path' summary for global step 263: classification_outputs/model.ckpt-263\n",
      "0.24345239\n"
     ]
    }
   ],
   "source": [
    "metrics = model.evaluate(input_fn = make_eval_input_fn(validation_data[REL_COLUMNS]))\n",
    "print(metrics['accuracy'])"
   ]
  },
  {
   "cell_type": "markdown",
   "metadata": {},
   "source": [
    "### Making predictions on validation data"
   ]
  },
  {
   "cell_type": "code",
   "execution_count": 24,
   "metadata": {},
   "outputs": [
    {
     "name": "stdout",
     "output_type": "stream",
     "text": [
      "INFO:tensorflow:Calling model_fn.\n",
      "INFO:tensorflow:Done calling model_fn.\n",
      "INFO:tensorflow:Graph was finalized.\n",
      "INFO:tensorflow:Restoring parameters from classification_outputs/model.ckpt-263\n",
      "INFO:tensorflow:Running local_init_op.\n",
      "INFO:tensorflow:Done running local_init_op.\n"
     ]
    }
   ],
   "source": [
    "validation_predictions = model.predict(input_fn=make_prediction_input_fn(validation_data[PREDICTOR_COLS]))\n",
    "\n",
    "validation_data = validation_data.assign(prediction=[int(i['classes'][0]) for i in validation_predictions])\n",
    "validation_data['ImageId'] = validation_data.index\n",
    "validation_data[['ImageId', 'label', 'prediction']].to_csv('validation_dnn_tensorflow.csv', index=False)"
   ]
  },
  {
   "cell_type": "code",
   "execution_count": null,
   "metadata": {},
   "outputs": [],
   "source": []
  },
  {
   "cell_type": "markdown",
   "metadata": {
    "_uuid": "a6576319e4fa591905fd48f3eb1dadee0fca282f"
   },
   "source": [
    "### Making predictions on test data"
   ]
  },
  {
   "cell_type": "code",
   "execution_count": 25,
   "metadata": {
    "_uuid": "86c6753d6469a55dfc9e591d8e983584778db8e6"
   },
   "outputs": [],
   "source": [
    "test_data = pd.read_csv('../input/test.csv')"
   ]
  },
  {
   "cell_type": "code",
   "execution_count": 26,
   "metadata": {},
   "outputs": [],
   "source": [
    "OUTDIR = 'classification_outputs'\n",
    "import shutil\n",
    "shutil.rmtree(OUTDIR, ignore_errors=True)"
   ]
  },
  {
   "cell_type": "code",
   "execution_count": 27,
   "metadata": {},
   "outputs": [
    {
     "name": "stdout",
     "output_type": "stream",
     "text": [
      "INFO:tensorflow:Using default config.\n",
      "INFO:tensorflow:Using config: {'_model_dir': 'classification_outputs', '_tf_random_seed': None, '_save_summary_steps': 100, '_save_checkpoints_steps': None, '_save_checkpoints_secs': 600, '_session_config': allow_soft_placement: true\n",
      "graph_options {\n",
      "  rewrite_options {\n",
      "    meta_optimizer_iterations: ONE\n",
      "  }\n",
      "}\n",
      ", '_keep_checkpoint_max': 5, '_keep_checkpoint_every_n_hours': 10000, '_log_step_count_steps': 100, '_train_distribute': None, '_device_fn': None, '_protocol': None, '_eval_distribute': None, '_experimental_distribute': None, '_service': None, '_cluster_spec': <tensorflow.python.training.server_lib.ClusterSpec object at 0x18386370b8>, '_task_type': 'worker', '_task_id': 0, '_global_id_in_cluster': 0, '_master': '', '_evaluation_master': '', '_is_chief': True, '_num_ps_replicas': 0, '_num_worker_replicas': 1}\n"
     ]
    }
   ],
   "source": [
    "model = tf.estimator.DNNClassifier(feature_columns=make_features(),\n",
    "                                   hidden_units=HIDDEN_UNITS,\n",
    "                                   n_classes=N_CLASSES,\n",
    "                                   dropout=0.2,\n",
    "                                   optimizer=tf.train.AdamOptimizer(1e-3),\n",
    "                                   model_dir=OUTDIR)\n"
   ]
  },
  {
   "cell_type": "code",
   "execution_count": 28,
   "metadata": {},
   "outputs": [
    {
     "name": "stdout",
     "output_type": "stream",
     "text": [
      "INFO:tensorflow:Calling model_fn.\n",
      "INFO:tensorflow:Done calling model_fn.\n",
      "INFO:tensorflow:Create CheckpointSaverHook.\n",
      "INFO:tensorflow:Graph was finalized.\n",
      "INFO:tensorflow:Running local_init_op.\n",
      "INFO:tensorflow:Done running local_init_op.\n",
      "INFO:tensorflow:Saving checkpoints for 0 into classification_outputs/model.ckpt.\n",
      "INFO:tensorflow:loss = 18480.39, step = 1\n",
      "INFO:tensorflow:global_step/sec: 6.2345\n",
      "INFO:tensorflow:loss = 267.40735, step = 101 (16.035 sec)\n",
      "INFO:tensorflow:global_step/sec: 8.25883\n",
      "INFO:tensorflow:loss = 272.87494, step = 201 (12.108 sec)\n",
      "INFO:tensorflow:global_step/sec: 8.32126\n",
      "INFO:tensorflow:loss = 273.00043, step = 301 (12.017 sec)\n",
      "INFO:tensorflow:Saving checkpoints for 329 into classification_outputs/model.ckpt.\n",
      "INFO:tensorflow:Loss for final step: 34.06228.\n"
     ]
    },
    {
     "data": {
      "text/plain": [
       "<tensorflow.python.estimator.canned.dnn.DNNClassifier at 0x1851b53d68>"
      ]
     },
     "execution_count": 28,
     "metadata": {},
     "output_type": "execute_result"
    }
   ],
   "source": [
    "model.train(input_fn=make_train_input_fn(full_data[REL_COLUMNS], num_epochs=NUM_EPOCHS))    "
   ]
  },
  {
   "cell_type": "code",
   "execution_count": 29,
   "metadata": {
    "_uuid": "8051986e1658755bdf5911ec25ef2bdeb6177037"
   },
   "outputs": [],
   "source": [
    "test_predictions = model.predict(input_fn=make_prediction_input_fn(test_data[PREDICTOR_COLS]))"
   ]
  },
  {
   "cell_type": "code",
   "execution_count": 30,
   "metadata": {},
   "outputs": [
    {
     "name": "stdout",
     "output_type": "stream",
     "text": [
      "INFO:tensorflow:Calling model_fn.\n",
      "INFO:tensorflow:Done calling model_fn.\n",
      "INFO:tensorflow:Graph was finalized.\n",
      "INFO:tensorflow:Restoring parameters from classification_outputs/model.ckpt-329\n",
      "INFO:tensorflow:Running local_init_op.\n",
      "INFO:tensorflow:Done running local_init_op.\n"
     ]
    }
   ],
   "source": [
    "test_data['Label'] = [int(i['classes'][0]) for i in test_predictions]"
   ]
  },
  {
   "cell_type": "code",
   "execution_count": 31,
   "metadata": {
    "_uuid": "62ac58bd99251ee3433633cc37c4a6301cecd472"
   },
   "outputs": [],
   "source": [
    "test_data['ImageId'] = np.arange(1, len(test_data)+1)"
   ]
  },
  {
   "cell_type": "code",
   "execution_count": 32,
   "metadata": {
    "_uuid": "f6c8ea464c58bf96d80192d559f1865bf05f9f87"
   },
   "outputs": [],
   "source": [
    "test_data[['ImageId', 'Label']].to_csv('submission_dnn_tensorflow.csv', index=False)"
   ]
  }
 ],
 "metadata": {
  "kernelspec": {
   "display_name": "Python 3",
   "language": "python",
   "name": "python3"
  },
  "language_info": {
   "codemirror_mode": {
    "name": "ipython",
    "version": 3
   },
   "file_extension": ".py",
   "mimetype": "text/x-python",
   "name": "python",
   "nbconvert_exporter": "python",
   "pygments_lexer": "ipython3",
   "version": "3.6.4"
  }
 },
 "nbformat": 4,
 "nbformat_minor": 1
}
